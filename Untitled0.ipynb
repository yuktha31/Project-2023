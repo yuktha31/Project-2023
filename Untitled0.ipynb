{
  "nbformat": 4,
  "nbformat_minor": 0,
  "metadata": {
    "colab": {
      "provenance": [],
      "authorship_tag": "ABX9TyOSkbfmxmQU9Ndm6P8D7VZQ",
      "include_colab_link": true
    },
    "kernelspec": {
      "name": "python3",
      "display_name": "Python 3"
    },
    "language_info": {
      "name": "python"
    }
  },
  "cells": [
    {
      "cell_type": "markdown",
      "metadata": {
        "id": "view-in-github",
        "colab_type": "text"
      },
      "source": [
        "<a href=\"https://colab.research.google.com/github/yuktha31/Project-2023/blob/main/Untitled0.ipynb\" target=\"_parent\"><img src=\"https://colab.research.google.com/assets/colab-badge.svg\" alt=\"Open In Colab\"/></a>"
      ]
    },
    {
      "cell_type": "code",
      "execution_count": 2,
      "metadata": {
        "colab": {
          "base_uri": "https://localhost:8080/"
        },
        "id": "Yg7nIUpYCHPy",
        "outputId": "216cd77d-0622-4656-9c68-c09c7c8f6d76"
      },
      "outputs": [
        {
          "output_type": "stream",
          "name": "stdout",
          "text": [
            "120\n",
            "Rajesh\n",
            "1200\n",
            "1500\n",
            "2000\n",
            "2700\n",
            "No Adequate balance\n"
          ]
        }
      ],
      "source": [
        "#Define the Account class here\n",
        "class Account:\n",
        "  def __init__(self,accntNo,accntName,accntBalance):\n",
        "    self.acctNo=accntNo\n",
        "    self.accntName=accntName\n",
        "    self.accntBalance=accntBalance\n",
        "\n",
        "#Define the AccountDemo class here\n",
        "class AccountDemo:\n",
        "  def __init__(self):\n",
        "    pass\n",
        "  def depositAmnt(self,acnt,amtdepo):\n",
        "    self.update=acnt.accntBalance+amtdepo\n",
        "    return self. update\n",
        "  def withdrawAmnt(self,Accnt,amtdep):\n",
        "    deduct=self.update-amtdep\n",
        "    if(deduct<1000):\n",
        "      return \"No Adequate balance\"\n",
        "    else:\n",
        "      return deduct\n",
        "\n",
        "#Sample main section.\n",
        "#Do not remove the below portion of code.\n",
        "if __name__ == '__main__':\n",
        "  acno=int(input())\n",
        "  acname=input()\n",
        "  acntbal=int(input())\n",
        "  depamnt=int(input())\n",
        "  withamnt=int(input())\n",
        "  acnt=Account(acno,acname,acntbal)\n",
        "  acntdemoobj=AccountDemo()\n",
        "  print(acntdemoobj.depositAmnt(acnt,depamnt))\n",
        "  print(acntdemoobj.withdrawAmnt(acnt,withamnt))"
      ]
    }
  ]
}